{
 "cells": [
  {
   "cell_type": "code",
   "execution_count": 7,
   "id": "5aabe97a",
   "metadata": {},
   "outputs": [
    {
     "name": "stdout",
     "output_type": "stream",
     "text": [
      "LIST IS:\n",
      "[1, 2, 4, 8, 16, 32, 37, 74, 148, 296, 592, 1184]\n",
      "RESULT is:\n",
      "2394\n"
     ]
    }
   ],
   "source": [
    "#FERMAT 2023 - problem 17\n",
    "\n",
    "#JUPITER NOTEBOOK FILE\n",
    "'''The positive divisors of 6 are 1, 2, 3, 6. The sum of the positive divisors of\n",
    "1184 is?'''\n",
    "\n",
    "N = 1185\n",
    "l = []\n",
    "S = 0\n",
    "\n",
    "for i in range(1,N):\n",
    "    #print(i)\n",
    "    if (N-1)%i == 0:\n",
    "        l.append(i)\n",
    "    \n",
    "print (\"LIST IS:\")\n",
    "print(l)\n",
    "print (\"RESULT is:\") \n",
    "print (sum(l))"
   ]
  },
  {
   "cell_type": "code",
   "execution_count": null,
   "id": "a1342d81",
   "metadata": {},
   "outputs": [],
   "source": []
  }
 ],
 "metadata": {
  "kernelspec": {
   "display_name": "Python 3 (ipykernel)",
   "language": "python",
   "name": "python3"
  },
  "language_info": {
   "codemirror_mode": {
    "name": "ipython",
    "version": 3
   },
   "file_extension": ".py",
   "mimetype": "text/x-python",
   "name": "python",
   "nbconvert_exporter": "python",
   "pygments_lexer": "ipython3",
   "version": "3.11.5"
  }
 },
 "nbformat": 4,
 "nbformat_minor": 5
}
