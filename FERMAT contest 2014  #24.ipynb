{
 "cells": [
  {
   "cell_type": "code",
   "execution_count": 1,
   "id": "54b734cc",
   "metadata": {},
   "outputs": [
    {
     "name": "stdout",
     "output_type": "stream",
     "text": [
      "RESULT IS\n",
      "27240\n"
     ]
    }
   ],
   "source": [
    "#FERMAT contest 2014 - problem 24\n",
    "\n",
    "''' \n",
    "Mohammed has eight boxes numbered 1 to 8 and eight balls numbered 1 to 8. In how\n",
    "many ways can he put the balls in the boxes so that there is one ball in each box,\n",
    "ball 1 is not in box 1, ball 2 is not in box 2, and ball 3 is not in box 3?\n",
    "'''\n",
    "\n",
    "import itertools\n",
    "import math\n",
    "\n",
    "\n",
    "# Get all permutations of [1, 2, 3, 4, 5, 6, 7, 8] \n",
    "perm = itertools.permutations([1, 2, 3, 4, 5, 6, 7, 8])\n",
    "\n",
    "counter = 0\n",
    "totalPermutations = math.factorial(8)\n",
    "# count all permutation where box 1 contains 1, box 2 contains 2, box 3 contains 3  \n",
    "for i in list(perm): \n",
    "     if i[0] == 1 or i[1] == 2 or i[2] == 3:\n",
    "            counter = counter + 1\n",
    "\n",
    "print(\"RESULT IS\")\n",
    "print(totalPermutations - counter)\n",
    "#print(\"TEST\")\n",
    "#print(math.factorial(7))\n",
    "        \n"
   ]
  },
  {
   "cell_type": "code",
   "execution_count": null,
   "id": "ed3cfdee",
   "metadata": {},
   "outputs": [],
   "source": []
  }
 ],
 "metadata": {
  "kernelspec": {
   "display_name": "Python 3 (ipykernel)",
   "language": "python",
   "name": "python3"
  },
  "language_info": {
   "codemirror_mode": {
    "name": "ipython",
    "version": 3
   },
   "file_extension": ".py",
   "mimetype": "text/x-python",
   "name": "python",
   "nbconvert_exporter": "python",
   "pygments_lexer": "ipython3",
   "version": "3.11.5"
  }
 },
 "nbformat": 4,
 "nbformat_minor": 5
}
