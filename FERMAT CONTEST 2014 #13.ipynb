{
 "cells": [
  {
   "cell_type": "code",
   "execution_count": 2,
   "id": "1baf54cc",
   "metadata": {},
   "outputs": [
    {
     "name": "stdout",
     "output_type": "stream",
     "text": [
      "RESULT\n",
      "9\n"
     ]
    }
   ],
   "source": [
    "#FERMAT 2014 - problem 13\n",
    "''' How many positive integers n between 10 and 1000 have the property that the sum\n",
    "of the digits of n is 3?'''\n",
    "def getSumOfDigits(n):\n",
    "    strr = str(n)\n",
    "    list_of_number = list(map(int, strr.strip()))\n",
    "    return sum(list_of_number)\n",
    "\n",
    "start = 10\n",
    "end = 1001\n",
    "digitSum = 0\n",
    "counter = 0\n",
    "\n",
    "for i in range(start, end):\n",
    "    digitSum = getSumOfDigits(i)\n",
    "    if digitSum == 3:\n",
    "        counter = counter +1 \n",
    "    \n",
    "    #print(i)\n",
    "    #print(digitSum)\n",
    "    #print(counter)\n",
    "    #print(\"*************\")\n",
    "\n",
    "print(\"RESULT\")    \n",
    "print(counter)"
   ]
  },
  {
   "cell_type": "code",
   "execution_count": null,
   "id": "ec60a761",
   "metadata": {},
   "outputs": [],
   "source": []
  }
 ],
 "metadata": {
  "kernelspec": {
   "display_name": "Python 3 (ipykernel)",
   "language": "python",
   "name": "python3"
  },
  "language_info": {
   "codemirror_mode": {
    "name": "ipython",
    "version": 3
   },
   "file_extension": ".py",
   "mimetype": "text/x-python",
   "name": "python",
   "nbconvert_exporter": "python",
   "pygments_lexer": "ipython3",
   "version": "3.11.5"
  }
 },
 "nbformat": 4,
 "nbformat_minor": 5
}
