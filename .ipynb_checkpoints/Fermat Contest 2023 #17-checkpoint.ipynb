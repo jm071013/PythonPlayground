{
 "cells": [
  {
   "cell_type": "code",
   "execution_count": 1,
   "id": "5aabe97a",
   "metadata": {},
   "outputs": [
    {
     "name": "stdout",
     "output_type": "stream",
     "text": [
      "RESULT\n",
      "2394\n"
     ]
    }
   ],
   "source": [
    "#FERMAT 2023 - problem 17\n",
    "\n",
    "''' The positive divisors of 6 are 1, 2, 3, 6. The sum of the positive divisors of\n",
    "1184 is?'''\n",
    "\n",
    "n = 12\n",
    "l = []\n",
    "\n",
    "for i in range(1,n):\n",
    "    print(i)\n",
    "    if (n-1)%i == 0:\n",
    "        l.append(i)\n",
    "    \n",
    "\n",
    "print (\"RESULT\")\n",
    "print (sum(l))"
   ]
  },
  {
   "cell_type": "code",
   "execution_count": null,
   "id": "a1342d81",
   "metadata": {},
   "outputs": [],
   "source": []
  }
 ],
 "metadata": {
  "kernelspec": {
   "display_name": "Python 3 (ipykernel)",
   "language": "python",
   "name": "python3"
  },
  "language_info": {
   "codemirror_mode": {
    "name": "ipython",
    "version": 3
   },
   "file_extension": ".py",
   "mimetype": "text/x-python",
   "name": "python",
   "nbconvert_exporter": "python",
   "pygments_lexer": "ipython3",
   "version": "3.11.5"
  }
 },
 "nbformat": 4,
 "nbformat_minor": 5
}
