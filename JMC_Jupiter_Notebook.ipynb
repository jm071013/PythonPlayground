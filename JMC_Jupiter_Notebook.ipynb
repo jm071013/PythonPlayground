{
 "cells": [
  {
   "cell_type": "code",
   "execution_count": 1,
   "id": "eb17e015",
   "metadata": {},
   "outputs": [
    {
     "name": "stdout",
     "output_type": "stream",
     "text": [
      "Hello, Euler number!\n",
      "For iteration 1 Euler number is 2.000000 \n",
      "For iteration 2 Euler number is 2.250000 \n",
      "For iteration 3 Euler number is 2.370370 \n",
      "For iteration 4 Euler number is 2.441406 \n",
      "For iteration 5 Euler number is 2.488320 \n",
      "For iteration 6 Euler number is 2.521626 \n",
      "For iteration 7 Euler number is 2.546500 \n",
      "For iteration 8 Euler number is 2.565785 \n",
      "For iteration 9 Euler number is 2.581175 \n",
      "For iteration 10 Euler number is 2.593742 \n"
     ]
    }
   ],
   "source": [
    "print(\"Hello, Euler number!\")\n",
    "\n",
    "#n = 100000000\n",
    "#m = 1.0\n",
    "#m = (1 + 1/n)\n",
    "#print(m)\n",
    "#e = pow(m,n)\n",
    "\n",
    "for x in range(10):\n",
    "  n = x+1\n",
    "  m = (1 + 1/n)\n",
    "  e = pow(m,n)  \n",
    "  print('For iteration %d Euler number is %f ' % (x+1, e))"
   ]
  },
  {
   "cell_type": "code",
   "execution_count": null,
   "id": "da209862",
   "metadata": {},
   "outputs": [],
   "source": [
    "print(\"My second cell in Jupiter Notebook\")"
   ]
  }
 ],
 "metadata": {
  "kernelspec": {
   "display_name": "Python 3 (ipykernel)",
   "language": "python",
   "name": "python3"
  },
  "language_info": {
   "codemirror_mode": {
    "name": "ipython",
    "version": 3
   },
   "file_extension": ".py",
   "mimetype": "text/x-python",
   "name": "python",
   "nbconvert_exporter": "python",
   "pygments_lexer": "ipython3",
   "version": "3.11.5"
  }
 },
 "nbformat": 4,
 "nbformat_minor": 5
}
